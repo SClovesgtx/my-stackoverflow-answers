{
 "cells": [
  {
   "cell_type": "markdown",
   "metadata": {},
   "source": [
    "Answer por the question [Elasticsearch request\n",
    "](https://stackoverflow.com/questions/63171226/elasticsearch-request/63173255#63173255)"
   ]
  },
  {
   "cell_type": "code",
   "execution_count": 1,
   "metadata": {},
   "outputs": [
    {
     "data": {
      "text/plain": [
       "<Elasticsearch([{'host': 'localhost', 'port': 9200}])>"
      ]
     },
     "execution_count": 1,
     "metadata": {},
     "output_type": "execute_result"
    }
   ],
   "source": [
    "from elasticsearch import Elasticsearch\n",
    "\n",
    "# Connect to the elastic cluster\n",
    "es=Elasticsearch([{'host':'localhost','port':9200}])\n",
    "es"
   ]
  },
  {
   "cell_type": "code",
   "execution_count": 3,
   "metadata": {},
   "outputs": [],
   "source": [
    "your_data = [\n",
    "     {  \"name\": \"name1\",\"age\": 20  },\n",
    "     {  \"name\": \"name2\",\"age\": 23  },\n",
    "     {  \"name\": \"name3\",\"age\": 20  },\n",
    "     {  \"name\": \"name1\",\"age\": 22  },\n",
    "     {  \"name\": \"name4\",\"age\": 18  },\n",
    "     {  \"name\": \"name2\",\"age\": 23  },\n",
    "     {  \"name\": \"name4\",\"age\": 18  },\n",
    "     {  \"name\": \"name4\",\"age\": 14  }\n",
    "]\n",
    "\n",
    "your_index_name = \"test_index\"\n",
    "\n",
    "# indexing your exemple data\n",
    "for doc in your_data:\n",
    "    es.index(index=your_index_name, body=doc)"
   ]
  },
  {
   "cell_type": "code",
   "execution_count": 7,
   "metadata": {},
   "outputs": [
    {
     "data": {
      "text/plain": [
       "[{'key': 'name4',\n",
       "  'doc_count': 3,\n",
       "  'age_terms': {'doc_count_error_upper_bound': 0,\n",
       "   'sum_other_doc_count': 0,\n",
       "   'buckets': [{'key': 18, 'doc_count': 2}, {'key': 14, 'doc_count': 1}]}},\n",
       " {'key': 'name1',\n",
       "  'doc_count': 2,\n",
       "  'age_terms': {'doc_count_error_upper_bound': 0,\n",
       "   'sum_other_doc_count': 0,\n",
       "   'buckets': [{'key': 20, 'doc_count': 1}, {'key': 22, 'doc_count': 1}]}},\n",
       " {'key': 'name2',\n",
       "  'doc_count': 2,\n",
       "  'age_terms': {'doc_count_error_upper_bound': 0,\n",
       "   'sum_other_doc_count': 0,\n",
       "   'buckets': [{'key': 23, 'doc_count': 2}]}},\n",
       " {'key': 'name3',\n",
       "  'doc_count': 1,\n",
       "  'age_terms': {'doc_count_error_upper_bound': 0,\n",
       "   'sum_other_doc_count': 0,\n",
       "   'buckets': [{'key': 20, 'doc_count': 1}]}}]"
      ]
     },
     "execution_count": 7,
     "metadata": {},
     "output_type": "execute_result"
    }
   ],
   "source": [
    "# the nested aggregation query \n",
    "query = {\n",
    "  \"aggs\": {\n",
    "    \"buckets_for_name\": {\n",
    "      \"terms\": { \"field\": \"name.keyword\" },\n",
    "       \"aggs\": {\n",
    "          \"age_terms\": {\n",
    "            \"terms\": {\n",
    "              \"field\": \"age\"\n",
    "            }\n",
    "          }\n",
    "        }\n",
    "    }\n",
    "  }\n",
    "}\n",
    "\n",
    "res = es.search(index=your_index_name, body=query)\n",
    "\n",
    "res[\"aggregations\"][\"buckets_for_name\"][\"buckets\"]"
   ]
  },
  {
   "cell_type": "code",
   "execution_count": 6,
   "metadata": {},
   "outputs": [
    {
     "data": {
      "text/plain": [
       "[{'name': 'name4', 'ages': [18, 14]},\n",
       " {'name': 'name1', 'ages': [20, 22]},\n",
       " {'name': 'name2', 'ages': [23]},\n",
       " {'name': 'name3', 'ages': [20]}]"
      ]
     },
     "execution_count": 6,
     "metadata": {},
     "output_type": "execute_result"
    }
   ],
   "source": [
    "pretty_results = []\n",
    "for result in res[\"aggregations\"][\"buckets_for_name\"][\"buckets\"]:\n",
    "    d = dict()\n",
    "    d[\"name\"] = result[\"key\"]\n",
    "    d[\"ages\"] = []\n",
    "    for age in result[\"status_terms\"][\"buckets\"]:\n",
    "        d[\"ages\"].append(age[\"key\"])\n",
    "    pretty_results.append(d)\n",
    "    \n",
    "pretty_results"
   ]
  },
  {
   "cell_type": "code",
   "execution_count": null,
   "metadata": {},
   "outputs": [],
   "source": []
  }
 ],
 "metadata": {
  "kernelspec": {
   "display_name": "Python 3",
   "language": "python",
   "name": "python3"
  },
  "language_info": {
   "codemirror_mode": {
    "name": "ipython",
    "version": 3
   },
   "file_extension": ".py",
   "mimetype": "text/x-python",
   "name": "python",
   "nbconvert_exporter": "python",
   "pygments_lexer": "ipython3",
   "version": "3.6.9"
  }
 },
 "nbformat": 4,
 "nbformat_minor": 4
}
